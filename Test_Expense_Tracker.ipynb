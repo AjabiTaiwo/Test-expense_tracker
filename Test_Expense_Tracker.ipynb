{
  "nbformat": 4,
  "nbformat_minor": 0,
  "metadata": {
    "colab": {
      "provenance": [],
      "authorship_tag": "ABX9TyMssWVj1VD6XIYnoAV0p8bk",
      "include_colab_link": true
    },
    "kernelspec": {
      "name": "python3",
      "display_name": "Python 3"
    },
    "language_info": {
      "name": "python"
    }
  },
  "cells": [
    {
      "cell_type": "markdown",
      "metadata": {
        "id": "view-in-github",
        "colab_type": "text"
      },
      "source": [
        "<a href=\"https://colab.research.google.com/github/AjabiTaiwo/Test-expense_tracker/blob/main/Test_Expense_Tracker.ipynb\" target=\"_parent\"><img src=\"https://colab.research.google.com/assets/colab-badge.svg\" alt=\"Open In Colab\"/></a>"
      ]
    },
    {
      "cell_type": "code",
      "execution_count": 3,
      "metadata": {
        "colab": {
          "base_uri": "https://localhost:8080/"
        },
        "id": "8ZjNjGbCjqhY",
        "outputId": "7e3c9228-8e24-4f32-84ab-da90f1351d6e"
      },
      "outputs": [
        {
          "output_type": "stream",
          "name": "stdout",
          "text": [
            "All Expenses: [{'id': '49edcffb-5a0a-47a9-8c56-7dd027e9fb78', 'title': 'Groceries', 'amount': 200, 'created_at': '2025-02-21T18:15:26.443513', 'updated_at': '2025-02-21T18:15:26.443513'}, {'id': 'b6d23c15-a10a-443e-a0dd-95a535a21895', 'title': 'Rent', 'amount': 1000.0, 'created_at': '2025-02-21T18:15:26.443557', 'updated_at': '2025-02-21T18:15:26.443557'}, {'id': 'd026991a-1864-495c-a284-d0d08da49bf9', 'title': 'New Car', 'amount': 5000.0, 'created_at': '2025-02-21T18:15:26.443578', 'updated_at': '2025-02-21T18:15:26.443578'}]\n",
            "Updated Expense: {'id': '49edcffb-5a0a-47a9-8c56-7dd027e9fb78', 'title': 'Groceries', 'amount': 300.0, 'created_at': '2025-02-21T18:15:26.443513', 'updated_at': '2025-02-21T18:15:26.443756'}\n",
            "Found Expense by ID: {'id': '49edcffb-5a0a-47a9-8c56-7dd027e9fb78', 'title': 'Groceries', 'amount': 300.0, 'created_at': '2025-02-21T18:15:26.443513', 'updated_at': '2025-02-21T18:15:26.443756'}\n",
            "Expenses after deletion: [{'id': '49edcffb-5a0a-47a9-8c56-7dd027e9fb78', 'title': 'Groceries', 'amount': 300.0, 'created_at': '2025-02-21T18:15:26.443513', 'updated_at': '2025-02-21T18:15:26.443756'}, {'id': 'd026991a-1864-495c-a284-d0d08da49bf9', 'title': 'New Car', 'amount': 5000.0, 'created_at': '2025-02-21T18:15:26.443578', 'updated_at': '2025-02-21T18:15:26.443578'}]\n"
          ]
        }
      ],
      "source": [
        "import uuid\n",
        "from datetime import datetime\n",
        "\n",
        "class Expense:\n",
        "    def __init__(self, title: str, amount: float):\n",
        "        self.id = str(uuid.uuid4())\n",
        "        self.title = title\n",
        "        self.amount = amount\n",
        "        self.created_at = datetime.utcnow()\n",
        "        self.updated_at = self.created_at\n",
        "\n",
        "    def update(self, title: str = None, amount: float = None):\n",
        "        if title:\n",
        "            self.title = title\n",
        "        if amount:\n",
        "            self.amount = amount\n",
        "        self.updated_at = datetime.utcnow()\n",
        "\n",
        "    def to_dict(self):\n",
        "        return {\n",
        "            \"id\": self.id,\n",
        "            \"title\": self.title,\n",
        "            \"amount\": self.amount,\n",
        "            \"created_at\": self.created_at.isoformat(),\n",
        "            \"updated_at\": self.updated_at.isoformat()\n",
        "        }\n",
        "\n",
        "class ExpenseDB:\n",
        "    def __init__(self):\n",
        "        self.expenses = []\n",
        "\n",
        "    def add_expense(self, expense: Expense):\n",
        "        self.expenses.append(expense)\n",
        "\n",
        "    def remove_expense(self, expense_id: str):\n",
        "        self.expenses = [exp for exp in self.expenses if exp.id != expense_id]\n",
        "\n",
        "    def get_expense_by_id(self, expense_id: str):\n",
        "        for expense in self.expenses:\n",
        "            if expense.id == expense_id:\n",
        "                return expense\n",
        "        return None\n",
        "\n",
        "    def get_expense_by_title(self, title: str):\n",
        "        return [exp for exp in self.expenses if exp.title.lower() == title.lower()]\n",
        "\n",
        "    def to_dict(self):\n",
        "        return [expense.to_dict() for expense in self.expenses]\n",
        "\n",
        "# Example Usage\n",
        "if __name__ == \"__main__\":\n",
        "    db = ExpenseDB()\n",
        "\n",
        "    expense1 = Expense(\"Groceries\", 200)\n",
        "    expense2 = Expense(\"Rent\", 1000.00)\n",
        "    expense3 = Expense(\"New Car\", 5000.00)\n",
        "\n",
        "    db.add_expense(expense1)\n",
        "    db.add_expense(expense2)\n",
        "    db.add_expense(expense3)\n",
        "\n",
        "    print(\"All Expenses:\", db.to_dict())\n",
        "\n",
        "    expense1.update(amount=300.00)\n",
        "    print(\"Updated Expense:\", expense1.to_dict())\n",
        "\n",
        "    found_expense = db.get_expense_by_id(expense1.id)\n",
        "    print(\"Found Expense by ID:\", found_expense.to_dict() if found_expense else \"Not Found\")\n",
        "\n",
        "    db.remove_expense(expense2.id)\n",
        "    print(\"Expenses after deletion:\", db.to_dict())\n"
      ]
    }
  ]
}